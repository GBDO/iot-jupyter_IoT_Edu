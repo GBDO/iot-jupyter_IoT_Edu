{
 "cells": [
  {
   "cell_type": "code",
   "execution_count": null,
   "outputs": [],
   "source": [
    "print('1111')"
   ],
   "metadata": {
    "collapsed": false,
    "pycharm": {
     "name": "#%%\n"
    }
   }
  },
  {
   "cell_type": "code",
   "execution_count": null,
   "outputs": [],
   "source": [
    "import matplotlib.pyplot as plt\n",
    "\n",
    "y = [1,2,3,4]\n",
    "plt.plot(y)\n",
    "plt.show()\n"
   ],
   "metadata": {
    "collapsed": false,
    "pycharm": {
     "name": "#%%\n"
    }
   }
  },
  {
   "cell_type": "code",
   "execution_count": null,
   "outputs": [],
   "source": [
    "y = [1,2,3,4,3,2,1]\n",
    "plt.plot(y)\n",
    "plt.show()\n"
   ],
   "metadata": {
    "collapsed": false,
    "pycharm": {
     "name": "#%%\n"
    }
   }
  },
  {
   "cell_type": "code",
   "execution_count": null,
   "outputs": [],
   "source": [
    "y = [1,2,3,4,3,2,1]\n",
    "plt.plot(y)\n",
    "plt.grid()\n",
    "plt.show()"
   ],
   "metadata": {
    "collapsed": false,
    "pycharm": {
     "name": "#%%\n"
    }
   }
  },
  {
   "cell_type": "code",
   "execution_count": null,
   "outputs": [],
   "source": [
    "y = [1,2,3,4,3,2,1]\n",
    "plt.plot(y,'ro')\n",
    "plt.show()"
   ],
   "metadata": {
    "collapsed": false,
    "pycharm": {
     "name": "#%%\n"
    }
   }
  },
  {
   "cell_type": "code",
   "execution_count": null,
   "outputs": [],
   "source": [
    "y = [1,2,3,4,3,2,1]\n",
    "plt.plot(y,'ro--')\n",
    "plt.show()\n"
   ],
   "metadata": {
    "collapsed": false,
    "pycharm": {
     "name": "#%%\n"
    }
   }
  },
  {
   "cell_type": "code",
   "execution_count": null,
   "outputs": [],
   "source": [
    "y = [1,2,3,4,3,2,1]\n",
    "plt.plot(y,'gs--')\n",
    "plt.show()"
   ],
   "metadata": {
    "collapsed": false,
    "pycharm": {
     "name": "#%%\n"
    }
   }
  },
  {
   "cell_type": "code",
   "execution_count": null,
   "outputs": [],
   "source": [
    "num = list(range(1,11))"
   ],
   "metadata": {
    "collapsed": false,
    "pycharm": {
     "name": "#%%\n"
    }
   }
  },
  {
   "cell_type": "code",
   "execution_count": null,
   "outputs": [],
   "source": [
    "for i in num:\n",
    "    print('hello')\n"
   ],
   "metadata": {
    "collapsed": false,
    "pycharm": {
     "name": "#%%\n"
    }
   }
  },
  {
   "cell_type": "code",
   "execution_count": null,
   "outputs": [],
   "source": [
    "maxNum = -1\n",
    "\n",
    "for element in num:\n",
    "    if element > maxNum:\n",
    "        maxNum = element\n",
    "\n",
    "print(maxNum)\n",
    "print(max(num))"
   ],
   "metadata": {
    "collapsed": false,
    "pycharm": {
     "name": "#%%\n"
    }
   }
  },
  {
   "cell_type": "code",
   "execution_count": null,
   "outputs": [],
   "source": [
    "import winsound\n",
    "frequency = 2500\n",
    "duration = 500\n",
    "winsound.Beep(frequency,duration)"
   ],
   "metadata": {
    "collapsed": false,
    "pycharm": {
     "name": "#%%\n"
    }
   }
  },
  {
   "cell_type": "code",
   "execution_count": null,
   "outputs": [],
   "source": [
    "import time\n",
    "for x in range(1,11):\n",
    "    print(x)\n",
    "    time.sleep(1)"
   ],
   "metadata": {
    "collapsed": false,
    "pycharm": {
     "name": "#%%\n"
    }
   }
  },
  {
   "cell_type": "code",
   "execution_count": null,
   "outputs": [],
   "source": [
    "for x in range(1,11):\n",
    "    if x%2 == 0 :\n",
    "        frequency = 3000\n",
    "        duration = 500\n",
    "        winsound.Beep(frequency, duration)\n",
    "        time.sleep(0.2)\n",
    "    else :\n",
    "        frequency = 3500\n",
    "        duration = 500\n",
    "        winsound.Beep(frequency, duration)\n",
    "        time.sleep(0.2)"
   ],
   "metadata": {
    "collapsed": false,
    "pycharm": {
     "name": "#%%\n"
    }
   }
  },
  {
   "cell_type": "code",
   "execution_count": null,
   "outputs": [],
   "source": [
    "age = int(input())\n",
    "if age >= 18:\n",
    "    trial = 5000\n",
    "elif age >= 8:\n",
    "    trial = 3000\n",
    "else :\n",
    "    trial = 0\n",
    "print(trial)"
   ],
   "metadata": {
    "collapsed": false,
    "pycharm": {
     "name": "#%%\n"
    }
   }
  },
  {
   "cell_type": "code",
   "execution_count": null,
   "outputs": [],
   "source": [
    "age = int(input())\n",
    "if 65> age >=18 :\n",
    "    trial = 5000\n",
    "elif 18 > age > 7:\n",
    "    trial = 3000\n",
    "else :\n",
    "    trial = 0\n",
    "print(trial)"
   ],
   "metadata": {
    "collapsed": false,
    "pycharm": {
     "name": "#%%\n"
    }
   }
  },
  {
   "cell_type": "code",
   "execution_count": null,
   "outputs": [],
   "source": [
    "print('요금 안내입니다.')\n",
    "age = int(input('만 나이를 입력하세요.'))\n",
    "\n",
    "massege = '손님의 요금은 {}원입니다.'\n",
    "\n",
    "if 65> age >=18 :\n",
    "    print(massege.format(5000))\n",
    "elif 18 > age > 7:\n",
    "    print(massege.format(3000))\n",
    "else :\n",
    "    print('손님의 요금은 무료입니다.')"
   ],
   "metadata": {
    "collapsed": false,
    "pycharm": {
     "name": "#%%\n"
    }
   }
  },
  {
   "cell_type": "code",
   "execution_count": null,
   "outputs": [],
   "source": [
    "num = 1\n",
    "triger = []\n",
    "factor = True\n",
    "while factor:\n",
    "    if len(triger) == 15:\n",
    "        factor = False\n",
    "    else:\n",
    "        if num%3 ==0 and num%5 ==0:\n",
    "            triger.append(num)\n",
    "            num = num+1\n",
    "        else:\n",
    "            num = num+1\n",
    "print(triger)\n",
    "print('완료')"
   ],
   "metadata": {
    "collapsed": false,
    "pycharm": {
     "name": "#%%\n"
    }
   }
  },
  {
   "cell_type": "code",
   "execution_count": null,
   "outputs": [],
   "source": [
    "num_1 = list(range(1,21))\n",
    "ls = []\n",
    "for n in num_1:\n",
    "    if n%2==0:\n",
    "        ls.append(n)\n",
    "        print(n)\n",
    "print(ls)"
   ],
   "metadata": {
    "collapsed": false,
    "pycharm": {
     "name": "#%%\n"
    }
   }
  },
  {
   "cell_type": "code",
   "execution_count": null,
   "outputs": [],
   "source": [
    "first_num = int(input()[0])\n",
    "second_num = list(range(2,20,2))\n",
    "second_num.insert(0,1)\n",
    "for n in second_num:\n",
    "    print(first_num,' x ',n,' = ',first_num*n)"
   ],
   "metadata": {
    "collapsed": false,
    "pycharm": {
     "name": "#%%\n"
    }
   }
  },
  {
   "cell_type": "code",
   "execution_count": null,
   "outputs": [],
   "source": [
    "num = list(range(int(input())))\n",
    "for n in num:\n",
    "    result='*'*(n+1)\n",
    "    print(result)"
   ],
   "metadata": {
    "collapsed": false,
    "pycharm": {
     "name": "#%%\n"
    }
   }
  },
  {
   "cell_type": "code",
   "execution_count": null,
   "outputs": [],
   "source": [
    "num = list(range(int(input())))\n",
    "for n in num:\n",
    "    result1=' '*(len(num)-(n+1))\n",
    "    result2='*'*(n+1+n)\n",
    "    print(result1,end='')\n",
    "    print(result2)\n",
    "for n in num:\n",
    "    result3=' '*(n)\n",
    "    result4='*'*(2*(len(num)-n)-1)\n",
    "    print(result3,end='')\n",
    "    print(result4)"
   ],
   "metadata": {
    "collapsed": false,
    "pycharm": {
     "name": "#%%\n"
    }
   }
  },
  {
   "cell_type": "code",
   "execution_count": null,
   "outputs": [],
   "source": [
    "num = list(range(1,10))\n",
    "for n1 in num:\n",
    "    for n2 in num:\n",
    "        print(n2,end='x')\n",
    "        if len(str(n1*n2)) == 2:\n",
    "            print(n1,'=',n1*n2,end='    ')\n",
    "        else:\n",
    "            print(n1,'=',n1*n2,end='     ')\n",
    "    print()"
   ],
   "metadata": {
    "collapsed": false,
    "pycharm": {
     "name": "#%%\n"
    }
   }
  },
  {
   "cell_type": "code",
   "execution_count": null,
   "outputs": [],
   "source": [
    "a = 'bang'\n",
    "b = 'suk'\n",
    "print(a,b)"
   ],
   "metadata": {
    "collapsed": false,
    "pycharm": {
     "name": "#%%\n"
    }
   }
  },
  {
   "cell_type": "code",
   "execution_count": null,
   "outputs": [],
   "source": [
    "for i in range(1,10):\n",
    "    print('%d x %d = %d'% (2, i, 2*i))"
   ],
   "metadata": {
    "collapsed": false,
    "pycharm": {
     "name": "#%%\n"
    }
   }
  },
  {
   "cell_type": "code",
   "execution_count": null,
   "outputs": [],
   "source": [
    "print('*')\n",
    "print('*')\n",
    "print('*')"
   ],
   "metadata": {
    "collapsed": false,
    "pycharm": {
     "name": "#%%\n"
    }
   }
  },
  {
   "cell_type": "code",
   "execution_count": null,
   "outputs": [],
   "source": [
    "print('*',end='')\n",
    "print('*',end='')\n",
    "print('*')"
   ],
   "metadata": {
    "collapsed": false,
    "pycharm": {
     "name": "#%%\n"
    }
   }
  },
  {
   "cell_type": "code",
   "execution_count": null,
   "outputs": [],
   "source": [
    "print('*\\t',end='')\n",
    "print('*\\t',end='')\n",
    "print('*')"
   ],
   "metadata": {
    "collapsed": false,
    "pycharm": {
     "name": "#%%\n"
    }
   }
  },
  {
   "cell_type": "code",
   "execution_count": null,
   "outputs": [],
   "source": [
    "import random\n",
    "x = random.randint(1,20)\n",
    "y = random.randint(1,20)\n",
    "print(x,y)"
   ],
   "metadata": {
    "collapsed": false,
    "pycharm": {
     "name": "#%%\n"
    }
   }
  },
  {
   "cell_type": "code",
   "execution_count": null,
   "outputs": [],
   "source": [
    "a = random.randint(1,20)\n",
    "b = random.randint(1,20)\n",
    "print(a,' + ',b,' =')"
   ],
   "metadata": {
    "collapsed": false,
    "pycharm": {
     "name": "#%%\n"
    }
   }
  },
  {
   "cell_type": "code",
   "execution_count": null,
   "outputs": [],
   "source": [
    "x = int(input())\n",
    "if a+b ==x:\n",
    "    print('Good')\n",
    "else:\n",
    "    print('Please retry')"
   ],
   "metadata": {
    "collapsed": false,
    "pycharm": {
     "name": "#%%\n"
    }
   }
  },
  {
   "cell_type": "code",
   "execution_count": null,
   "outputs": [],
   "source": [
    "def print_hello(name):\n",
    "    print('heLLo',name)"
   ],
   "metadata": {
    "collapsed": false,
    "pycharm": {
     "name": "#%% 함수 만들기\n"
    }
   }
  },
  {
   "cell_type": "code",
   "execution_count": null,
   "outputs": [],
   "source": [
    "print_hello('재민')"
   ],
   "metadata": {
    "collapsed": false,
    "pycharm": {
     "name": "#%%\n"
    }
   }
  },
  {
   "cell_type": "code",
   "execution_count": null,
   "outputs": [],
   "source": [
    "def f(x):\n",
    "    y = 2 * x +3\n",
    "    x = 7\n",
    "    print('x = ',x)\n",
    "    return y"
   ],
   "metadata": {
    "collapsed": false,
    "pycharm": {
     "name": "#%% 변수 종류\n"
    }
   }
  },
  {
   "cell_type": "code",
   "execution_count": null,
   "outputs": [],
   "source": [
    "x=2\n",
    "f(x)\n",
    "print(x)"
   ],
   "metadata": {
    "collapsed": false,
    "pycharm": {
     "name": "#%%\n"
    }
   }
  },
  {
   "cell_type": "code",
   "execution_count": null,
   "outputs": [],
   "source": [
    "name = 'gi-beom Do'\n",
    "name[0:]"
   ],
   "metadata": {
    "collapsed": false,
    "pycharm": {
     "name": "#%%\n"
    }
   }
  },
  {
   "cell_type": "code",
   "execution_count": null,
   "outputs": [],
   "source": [
    "name[0::2]\n"
   ],
   "metadata": {
    "collapsed": false,
    "pycharm": {
     "name": "#%%\n"
    }
   }
  },
  {
   "cell_type": "code",
   "execution_count": null,
   "outputs": [],
   "source": [
    "name[1::2]"
   ],
   "metadata": {
    "collapsed": false,
    "pycharm": {
     "name": "#%%\n"
    }
   }
  },
  {
   "cell_type": "code",
   "execution_count": null,
   "outputs": [],
   "source": [
    "'%s' %'I will be back!'"
   ],
   "metadata": {
    "collapsed": false,
    "pycharm": {
     "name": "#%% 텍스트 문자열의 포멧\n"
    }
   }
  },
  {
   "cell_type": "code",
   "execution_count": null,
   "outputs": [],
   "source": [
    "print('%s' %'I will be back!')"
   ],
   "metadata": {
    "collapsed": false,
    "pycharm": {
     "name": "#%%\n"
    }
   }
  },
  {
   "cell_type": "code",
   "execution_count": null,
   "outputs": [],
   "source": [
    "price = '11,000원'\n",
    "price = price.replace('원','')\n",
    "price = int(price.replace(',',''))\n",
    "print(price)"
   ],
   "metadata": {
    "collapsed": false,
    "pycharm": {
     "name": "#%% 문자열 객체의 멤버 함수(replace)\n"
    }
   }
  },
  {
   "cell_type": "code",
   "execution_count": null,
   "outputs": [],
   "source": [
    "lst = ['200\\n','1,100\\n','1,000\\n']\n",
    "new_lst = []\n",
    "for money in lst:\n",
    "    money = money.replace('\\n','')\n",
    "    money = int(money.replace(',',''))\n",
    "    new_lst.append(money)\n",
    "print(new_lst)"
   ],
   "metadata": {
    "collapsed": false,
    "pycharm": {
     "name": "#%%\n"
    }
   }
  },
  {
   "cell_type": "code",
   "execution_count": null,
   "outputs": [],
   "source": [
    "name = 'Do gi beom'\n",
    "n = name.split(' ')\n",
    "n\n"
   ],
   "metadata": {
    "collapsed": false,
    "pycharm": {
     "name": "#%% 문자열 객체의 멤버 함수(split)\n"
    }
   }
  },
  {
   "cell_type": "code",
   "execution_count": null,
   "outputs": [],
   "source": [
    "for i in n:\n",
    "    print(i, end='\\t')"
   ],
   "metadata": {
    "collapsed": false,
    "pycharm": {
     "name": "#%%\n"
    }
   }
  },
  {
   "cell_type": "code",
   "execution_count": null,
   "outputs": [],
   "source": [
    "date = '2020-01-09'\n",
    "date_new = date.split('-')\n",
    "newOne = []\n",
    "for i in date_new:\n",
    "    i = int(i)\n",
    "    newOne.append(i)\n",
    "print('오늘은 {}년 {}월 {}일입니다'.format(newOne[0],newOne[1],newOne[2]))"
   ],
   "metadata": {
    "collapsed": false,
    "pycharm": {
     "name": "#%%\n"
    }
   }
  },
  {
   "cell_type": "code",
   "execution_count": null,
   "outputs": [],
   "source": [
    "lst = [1,2,3]\n",
    "for idx in range(4):\n",
    "    try:\n",
    "        print(lst[idx])\n",
    "    except IndexError:\n",
    "        print('옳바른 인덱스가 아닙니다.',idx+1)"
   ],
   "metadata": {
    "collapsed": false,
    "pycharm": {
     "name": "#%% 예외 처리 (Try-except)\n"
    }
   }
  },
  {
   "cell_type": "code",
   "execution_count": null,
   "outputs": [],
   "source": [
    "class Tiguan():\n",
    "    color = 'black'\n",
    "    def run(self):\n",
    "        print('꼼지락~ 꼼지락~')"
   ],
   "metadata": {
    "collapsed": false,
    "pycharm": {
     "name": "#%% Object, Class에 대해서\n"
    }
   }
  },
  {
   "cell_type": "code",
   "execution_count": null,
   "outputs": [],
   "source": [
    "tiguan = Tiguan()"
   ],
   "metadata": {
    "collapsed": false,
    "pycharm": {
     "name": "#%%\n"
    }
   }
  },
  {
   "cell_type": "code",
   "execution_count": null,
   "outputs": [],
   "source": [
    "print(tiguan.color)\n",
    "tiguan.run()\n",
    "\n"
   ],
   "metadata": {
    "collapsed": false,
    "pycharm": {
     "name": "#%%\n"
    }
   }
  }
 ],
 "metadata": {
  "kernelspec": {
   "display_name": "Python 3",
   "language": "python",
   "name": "python3"
  },
  "language_info": {
   "codemirror_mode": {
    "name": "ipython",
    "version": 2
   },
   "file_extension": ".py",
   "mimetype": "text/x-python",
   "name": "python",
   "nbconvert_exporter": "python",
   "pygments_lexer": "ipython2",
   "version": "2.7.6"
  }
 },
 "nbformat": 4,
 "nbformat_minor": 0
}